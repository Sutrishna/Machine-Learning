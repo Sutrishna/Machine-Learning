{
 "cells": [
  {
   "cell_type": "markdown",
   "metadata": {},
   "source": [
    "# VODKA CASE STUDY"
   ]
  },
  {
   "cell_type": "code",
   "execution_count": 1,
   "metadata": {
    "collapsed": true
   },
   "outputs": [],
   "source": [
    "import pandas as pd\n",
    "import numpy as np\n",
    "import matplotlib.pyplot as plt\n",
    "import seaborn as sns\n",
    "%matplotlib inline"
   ]
  },
  {
   "cell_type": "code",
   "execution_count": 2,
   "metadata": {},
   "outputs": [
    {
     "data": {
      "text/html": [
       "<div>\n",
       "<style scoped>\n",
       "    .dataframe tbody tr th:only-of-type {\n",
       "        vertical-align: middle;\n",
       "    }\n",
       "\n",
       "    .dataframe tbody tr th {\n",
       "        vertical-align: top;\n",
       "    }\n",
       "\n",
       "    .dataframe thead th {\n",
       "        text-align: right;\n",
       "    }\n",
       "</style>\n",
       "<table border=\"1\" class=\"dataframe\">\n",
       "  <thead>\n",
       "    <tr style=\"text-align: right;\">\n",
       "      <th></th>\n",
       "      <th>Resp No</th>\n",
       "      <th>PANEL</th>\n",
       "      <th>CENTRE</th>\n",
       "      <th>MAIN_BRND</th>\n",
       "      <th>AGE</th>\n",
       "      <th>AGES</th>\n",
       "      <th>Plcmnt_Ordr</th>\n",
       "      <th>Prod</th>\n",
       "      <th>Q2A</th>\n",
       "      <th>Q2B</th>\n",
       "      <th>...</th>\n",
       "      <th>Q5A_att5</th>\n",
       "      <th>Q5A_att6</th>\n",
       "      <th>Q5A_att7</th>\n",
       "      <th>Q5A_att8</th>\n",
       "      <th>Q5B_att1</th>\n",
       "      <th>Q5B_att2</th>\n",
       "      <th>Q5B_att3</th>\n",
       "      <th>Q5B_att4</th>\n",
       "      <th>Q5B_att5</th>\n",
       "      <th>Q6_Int_p (Y=1,N=2)</th>\n",
       "    </tr>\n",
       "  </thead>\n",
       "  <tbody>\n",
       "    <tr>\n",
       "      <th>0</th>\n",
       "      <td>1</td>\n",
       "      <td>2</td>\n",
       "      <td>1</td>\n",
       "      <td>2</td>\n",
       "      <td>34</td>\n",
       "      <td>2</td>\n",
       "      <td>1</td>\n",
       "      <td>2</td>\n",
       "      <td>7</td>\n",
       "      <td>3</td>\n",
       "      <td>...</td>\n",
       "      <td>7</td>\n",
       "      <td>7</td>\n",
       "      <td>7</td>\n",
       "      <td>7</td>\n",
       "      <td>3</td>\n",
       "      <td>4</td>\n",
       "      <td>4</td>\n",
       "      <td>4</td>\n",
       "      <td>3</td>\n",
       "      <td>2</td>\n",
       "    </tr>\n",
       "    <tr>\n",
       "      <th>1</th>\n",
       "      <td>1</td>\n",
       "      <td>2</td>\n",
       "      <td>1</td>\n",
       "      <td>2</td>\n",
       "      <td>34</td>\n",
       "      <td>2</td>\n",
       "      <td>2</td>\n",
       "      <td>3</td>\n",
       "      <td>8</td>\n",
       "      <td>5</td>\n",
       "      <td>...</td>\n",
       "      <td>8</td>\n",
       "      <td>7</td>\n",
       "      <td>8</td>\n",
       "      <td>8</td>\n",
       "      <td>5</td>\n",
       "      <td>5</td>\n",
       "      <td>5</td>\n",
       "      <td>5</td>\n",
       "      <td>3</td>\n",
       "      <td>2</td>\n",
       "    </tr>\n",
       "    <tr>\n",
       "      <th>2</th>\n",
       "      <td>1</td>\n",
       "      <td>2</td>\n",
       "      <td>1</td>\n",
       "      <td>2</td>\n",
       "      <td>34</td>\n",
       "      <td>2</td>\n",
       "      <td>3</td>\n",
       "      <td>1</td>\n",
       "      <td>4</td>\n",
       "      <td>5</td>\n",
       "      <td>...</td>\n",
       "      <td>7</td>\n",
       "      <td>7</td>\n",
       "      <td>6</td>\n",
       "      <td>7</td>\n",
       "      <td>5</td>\n",
       "      <td>5</td>\n",
       "      <td>3</td>\n",
       "      <td>5</td>\n",
       "      <td>5</td>\n",
       "      <td>2</td>\n",
       "    </tr>\n",
       "    <tr>\n",
       "      <th>3</th>\n",
       "      <td>2</td>\n",
       "      <td>3</td>\n",
       "      <td>1</td>\n",
       "      <td>2</td>\n",
       "      <td>26</td>\n",
       "      <td>1</td>\n",
       "      <td>1</td>\n",
       "      <td>3</td>\n",
       "      <td>7</td>\n",
       "      <td>4</td>\n",
       "      <td>...</td>\n",
       "      <td>7</td>\n",
       "      <td>8</td>\n",
       "      <td>10</td>\n",
       "      <td>8</td>\n",
       "      <td>3</td>\n",
       "      <td>3</td>\n",
       "      <td>3</td>\n",
       "      <td>3</td>\n",
       "      <td>3</td>\n",
       "      <td>1</td>\n",
       "    </tr>\n",
       "    <tr>\n",
       "      <th>4</th>\n",
       "      <td>2</td>\n",
       "      <td>3</td>\n",
       "      <td>1</td>\n",
       "      <td>2</td>\n",
       "      <td>26</td>\n",
       "      <td>1</td>\n",
       "      <td>2</td>\n",
       "      <td>1</td>\n",
       "      <td>9</td>\n",
       "      <td>2</td>\n",
       "      <td>...</td>\n",
       "      <td>9</td>\n",
       "      <td>10</td>\n",
       "      <td>10</td>\n",
       "      <td>9</td>\n",
       "      <td>3</td>\n",
       "      <td>3</td>\n",
       "      <td>4</td>\n",
       "      <td>4</td>\n",
       "      <td>3</td>\n",
       "      <td>1</td>\n",
       "    </tr>\n",
       "  </tbody>\n",
       "</table>\n",
       "<p>5 rows × 26 columns</p>\n",
       "</div>"
      ],
      "text/plain": [
       "   Resp No  PANEL  CENTRE  MAIN_BRND  AGE  AGES  Plcmnt_Ordr  Prod  Q2A  Q2B  \\\n",
       "0        1      2       1          2   34     2            1     2    7    3   \n",
       "1        1      2       1          2   34     2            2     3    8    5   \n",
       "2        1      2       1          2   34     2            3     1    4    5   \n",
       "3        2      3       1          2   26     1            1     3    7    4   \n",
       "4        2      3       1          2   26     1            2     1    9    2   \n",
       "\n",
       "          ...          Q5A_att5  Q5A_att6  Q5A_att7  Q5A_att8  Q5B_att1  \\\n",
       "0         ...                 7         7         7         7         3   \n",
       "1         ...                 8         7         8         8         5   \n",
       "2         ...                 7         7         6         7         5   \n",
       "3         ...                 7         8        10         8         3   \n",
       "4         ...                 9        10        10         9         3   \n",
       "\n",
       "   Q5B_att2  Q5B_att3  Q5B_att4  Q5B_att5  Q6_Int_p (Y=1,N=2)  \n",
       "0         4         4         4         3                   2  \n",
       "1         5         5         5         3                   2  \n",
       "2         5         3         5         5                   2  \n",
       "3         3         3         3         3                   1  \n",
       "4         3         4         4         3                   1  \n",
       "\n",
       "[5 rows x 26 columns]"
      ]
     },
     "execution_count": 2,
     "metadata": {},
     "output_type": "execute_result"
    }
   ],
   "source": [
    "data = pd.read_excel(\"FINALdatablindtest.xls\")\n",
    "data.head()"
   ]
  },
  {
   "cell_type": "code",
   "execution_count": 3,
   "metadata": {},
   "outputs": [
    {
     "data": {
      "text/plain": [
       "Index(['Resp No', 'PANEL', 'CENTRE', 'MAIN_BRND', 'AGE', 'AGES', 'Plcmnt_Ordr',\n",
       "       'Prod', 'Q2A', 'Q2B', 'Q3A', 'Q3B', 'Q5A_att1', 'Q5A_att2', 'Q5A_att3',\n",
       "       'Q5A_att4', 'Q5A_att5', 'Q5A_att6', 'Q5A_att7', 'Q5A_att8', 'Q5B_att1',\n",
       "       'Q5B_att2', 'Q5B_att3', 'Q5B_att4', 'Q5B_att5', 'Q6_Int_p (Y=1,N=2)'],\n",
       "      dtype='object')"
      ]
     },
     "execution_count": 3,
     "metadata": {},
     "output_type": "execute_result"
    }
   ],
   "source": [
    "data.columns"
   ]
  },
  {
   "cell_type": "markdown",
   "metadata": {},
   "source": [
    " \n",
    " "
   ]
  },
  {
   "cell_type": "markdown",
   "metadata": {},
   "source": [
    "# Overall Likeability"
   ]
  },
  {
   "cell_type": "markdown",
   "metadata": {},
   "source": [
    "Q5A_att1 gives the overall likability of the product hence we will verify the overall likability of the three products."
   ]
  },
  {
   "cell_type": "code",
   "execution_count": 4,
   "metadata": {},
   "outputs": [
    {
     "data": {
      "text/html": [
       "<div>\n",
       "<style scoped>\n",
       "    .dataframe tbody tr th:only-of-type {\n",
       "        vertical-align: middle;\n",
       "    }\n",
       "\n",
       "    .dataframe tbody tr th {\n",
       "        vertical-align: top;\n",
       "    }\n",
       "\n",
       "    .dataframe thead th {\n",
       "        text-align: right;\n",
       "    }\n",
       "</style>\n",
       "<table border=\"1\" class=\"dataframe\">\n",
       "  <thead>\n",
       "    <tr style=\"text-align: right;\">\n",
       "      <th>Prod</th>\n",
       "      <th>1</th>\n",
       "      <th>2</th>\n",
       "      <th>3</th>\n",
       "    </tr>\n",
       "    <tr>\n",
       "      <th>Q5A_att1</th>\n",
       "      <th></th>\n",
       "      <th></th>\n",
       "      <th></th>\n",
       "    </tr>\n",
       "  </thead>\n",
       "  <tbody>\n",
       "    <tr>\n",
       "      <th>0</th>\n",
       "      <td>2</td>\n",
       "      <td>2</td>\n",
       "      <td>0</td>\n",
       "    </tr>\n",
       "    <tr>\n",
       "      <th>1</th>\n",
       "      <td>0</td>\n",
       "      <td>1</td>\n",
       "      <td>1</td>\n",
       "    </tr>\n",
       "    <tr>\n",
       "      <th>2</th>\n",
       "      <td>0</td>\n",
       "      <td>2</td>\n",
       "      <td>4</td>\n",
       "    </tr>\n",
       "    <tr>\n",
       "      <th>3</th>\n",
       "      <td>11</td>\n",
       "      <td>16</td>\n",
       "      <td>14</td>\n",
       "    </tr>\n",
       "    <tr>\n",
       "      <th>4</th>\n",
       "      <td>22</td>\n",
       "      <td>16</td>\n",
       "      <td>26</td>\n",
       "    </tr>\n",
       "    <tr>\n",
       "      <th>5</th>\n",
       "      <td>39</td>\n",
       "      <td>43</td>\n",
       "      <td>59</td>\n",
       "    </tr>\n",
       "    <tr>\n",
       "      <th>6</th>\n",
       "      <td>74</td>\n",
       "      <td>106</td>\n",
       "      <td>99</td>\n",
       "    </tr>\n",
       "    <tr>\n",
       "      <th>7</th>\n",
       "      <td>123</td>\n",
       "      <td>152</td>\n",
       "      <td>118</td>\n",
       "    </tr>\n",
       "    <tr>\n",
       "      <th>8</th>\n",
       "      <td>217</td>\n",
       "      <td>192</td>\n",
       "      <td>218</td>\n",
       "    </tr>\n",
       "    <tr>\n",
       "      <th>9</th>\n",
       "      <td>181</td>\n",
       "      <td>140</td>\n",
       "      <td>136</td>\n",
       "    </tr>\n",
       "    <tr>\n",
       "      <th>10</th>\n",
       "      <td>91</td>\n",
       "      <td>90</td>\n",
       "      <td>85</td>\n",
       "    </tr>\n",
       "  </tbody>\n",
       "</table>\n",
       "</div>"
      ],
      "text/plain": [
       "Prod        1    2    3\n",
       "Q5A_att1               \n",
       "0           2    2    0\n",
       "1           0    1    1\n",
       "2           0    2    4\n",
       "3          11   16   14\n",
       "4          22   16   26\n",
       "5          39   43   59\n",
       "6          74  106   99\n",
       "7         123  152  118\n",
       "8         217  192  218\n",
       "9         181  140  136\n",
       "10         91   90   85"
      ]
     },
     "execution_count": 4,
     "metadata": {},
     "output_type": "execute_result"
    }
   ],
   "source": [
    "a = pd.crosstab(data['Q5A_att1'],data['Prod'])\n",
    "a"
   ]
  },
  {
   "cell_type": "code",
   "execution_count": 5,
   "metadata": {
    "scrolled": false
   },
   "outputs": [
    {
     "data": {
      "text/plain": [
       "<matplotlib.axes._subplots.AxesSubplot at 0x233845993c8>"
      ]
     },
     "execution_count": 5,
     "metadata": {},
     "output_type": "execute_result"
    },
    {
     "data": {
      "image/png": "[encoded data removed]",
      "text/plain": [
       "<Figure size 1080x360 with 1 Axes>"
      ]
     },
     "metadata": {},
     "output_type": "display_data"
    }
   ],
   "source": [
    "a.plot.bar(figsize=(15,5),width=0.8)"
   ]
  },
  {
   "cell_type": "markdown",
   "metadata": {},
   "source": [
    "Since we are checking the overall likeability we will be checking the scores of Q5A_att1 ratings of 9 and 10."
   ]
  },
  {
   "cell_type": "markdown",
   "metadata": {},
   "source": [
    "The total % of people who have rated the products 9 and 10 are as below.\n",
    "- Prod 1 = 35.80%\n",
    "- Prod 2 = 30.02%\n",
    "- Prod 3 = 29.01%"
   ]
  },
  {
   "cell_type": "markdown",
   "metadata": {},
   "source": [
    "Since we have got the Percentage likability of the products we will perform a Z - Test to verify whether there is significant difference between the two products.\n",
    "\n",
    "For the Z - Test we will be considering the below values, this will be a two tailed test because we need to check for significant difference which can be greater or less.\n",
    "    - PROD1:\n",
    "        - n = 760\n",
    "        - CI = 95%\n",
    "        - sample proportion - 0.358\n",
    "\n",
    "\n",
    "From the z statistic the p-critical values, 0.324 < p < 0.392"
   ]
  },
  {
   "cell_type": "markdown",
   "metadata": {},
   "source": [
    "    - PROD2:\n",
    "        - n = 760\n",
    "        - CI = 95%\n",
    "        - sample proportion - 0.302\n",
    "\n",
    "\n",
    "From the z statistic the p-critical values, 0.27 < p < 0.334"
   ]
  },
  {
   "cell_type": "markdown",
   "metadata": {},
   "source": [
    "Since there is an overlap between the two ranges we can conclude that there is no significant difference between the Two products."
   ]
  },
  {
   "cell_type": "markdown",
   "metadata": {},
   "source": [
    "## Drivers of Overall Likeability"
   ]
  },
  {
   "cell_type": "markdown",
   "metadata": {},
   "source": [
    "The Overall Likeability of the product is linked with 7 more attributes.\n",
    "\n",
    "- 5A_Attr2 – Likeability of Aroma\n",
    "- 5A_Attr3 – Likeability of Taste\n",
    "- 5A_Attr4 – Likeability of Smoothness\n",
    "- 5A_Attr5 – Likeability of Flavour\n",
    "- 5A_Attr6 – Likeability of Throat-feel when the vodka goes down\n",
    "- 5A_Attr7 – Likeability of After-taste\n",
    "- 5A_Attr8 – Likeability of Mouth-feel when the vodka is sipped\n"
   ]
  },
  {
   "cell_type": "markdown",
   "metadata": {},
   "source": [
    "Now we need to verify what all attributes drive the overall likeability of the product"
   ]
  },
  {
   "cell_type": "markdown",
   "metadata": {},
   "source": [
    "To do this we can do a Simple Linear Regression keeping the overall likeability column as the Target and the Rest of the attributes as Predictors"
   ]
  },
  {
   "cell_type": "code",
   "execution_count": 6,
   "metadata": {
    "scrolled": true
   },
   "outputs": [
    {
     "data": {
      "text/html": [
       "<div>\n",
       "<style scoped>\n",
       "    .dataframe tbody tr th:only-of-type {\n",
       "        vertical-align: middle;\n",
       "    }\n",
       "\n",
       "    .dataframe tbody tr th {\n",
       "        vertical-align: top;\n",
       "    }\n",
       "\n",
       "    .dataframe thead th {\n",
       "        text-align: right;\n",
       "    }\n",
       "</style>\n",
       "<table border=\"1\" class=\"dataframe\">\n",
       "  <thead>\n",
       "    <tr style=\"text-align: right;\">\n",
       "      <th></th>\n",
       "      <th>Q5A_att1</th>\n",
       "      <th>Q5A_att2</th>\n",
       "      <th>Q5A_att3</th>\n",
       "      <th>Q5A_att4</th>\n",
       "      <th>Q5A_att5</th>\n",
       "      <th>Q5A_att6</th>\n",
       "      <th>Q5A_att7</th>\n",
       "      <th>Q5A_att8</th>\n",
       "    </tr>\n",
       "  </thead>\n",
       "  <tbody>\n",
       "    <tr>\n",
       "      <th>0</th>\n",
       "      <td>7</td>\n",
       "      <td>6</td>\n",
       "      <td>7</td>\n",
       "      <td>7</td>\n",
       "      <td>7</td>\n",
       "      <td>7</td>\n",
       "      <td>7</td>\n",
       "      <td>7</td>\n",
       "    </tr>\n",
       "    <tr>\n",
       "      <th>1</th>\n",
       "      <td>8</td>\n",
       "      <td>8</td>\n",
       "      <td>8</td>\n",
       "      <td>8</td>\n",
       "      <td>8</td>\n",
       "      <td>7</td>\n",
       "      <td>8</td>\n",
       "      <td>8</td>\n",
       "    </tr>\n",
       "    <tr>\n",
       "      <th>2</th>\n",
       "      <td>7</td>\n",
       "      <td>6</td>\n",
       "      <td>7</td>\n",
       "      <td>8</td>\n",
       "      <td>7</td>\n",
       "      <td>7</td>\n",
       "      <td>6</td>\n",
       "      <td>7</td>\n",
       "    </tr>\n",
       "    <tr>\n",
       "      <th>3</th>\n",
       "      <td>10</td>\n",
       "      <td>8</td>\n",
       "      <td>8</td>\n",
       "      <td>8</td>\n",
       "      <td>7</td>\n",
       "      <td>8</td>\n",
       "      <td>10</td>\n",
       "      <td>8</td>\n",
       "    </tr>\n",
       "    <tr>\n",
       "      <th>4</th>\n",
       "      <td>9</td>\n",
       "      <td>9</td>\n",
       "      <td>9</td>\n",
       "      <td>9</td>\n",
       "      <td>9</td>\n",
       "      <td>10</td>\n",
       "      <td>10</td>\n",
       "      <td>9</td>\n",
       "    </tr>\n",
       "  </tbody>\n",
       "</table>\n",
       "</div>"
      ],
      "text/plain": [
       "   Q5A_att1  Q5A_att2  Q5A_att3  Q5A_att4  Q5A_att5  Q5A_att6  Q5A_att7  \\\n",
       "0         7         6         7         7         7         7         7   \n",
       "1         8         8         8         8         8         7         8   \n",
       "2         7         6         7         8         7         7         6   \n",
       "3        10         8         8         8         7         8        10   \n",
       "4         9         9         9         9         9        10        10   \n",
       "\n",
       "   Q5A_att8  \n",
       "0         7  \n",
       "1         8  \n",
       "2         7  \n",
       "3         8  \n",
       "4         9  "
      ]
     },
     "execution_count": 6,
     "metadata": {},
     "output_type": "execute_result"
    }
   ],
   "source": [
    "likeability = data[['Q5A_att1', 'Q5A_att2', 'Q5A_att3','Q5A_att4', 'Q5A_att5', 'Q5A_att6', 'Q5A_att7', 'Q5A_att8']]\n",
    "likeability.to_csv('likeability.csv',index=False)\n",
    "likeability.head()"
   ]
  },
  {
   "cell_type": "markdown",
   "metadata": {},
   "source": [
    "First we will Build a simple linear regression model considering only one attribute i.e. Q5A_att2(Aroma)."
   ]
  },
  {
   "cell_type": "code",
   "execution_count": 7,
   "metadata": {
    "scrolled": false
   },
   "outputs": [
    {
     "name": "stdout",
     "output_type": "stream",
     "text": [
      "                            OLS Regression Results                            \n",
      "==============================================================================\n",
      "Dep. Variable:               Q5A_att1   R-squared:                       0.523\n",
      "Model:                            OLS   Adj. R-squared:                  0.523\n",
      "Method:                 Least Squares   F-statistic:                     2496.\n",
      "Date:                Wed, 13 Jun 2018   Prob (F-statistic):               0.00\n",
      "Time:                        21:48:41   Log-Likelihood:                -3593.1\n",
      "No. Observations:                2280   AIC:                             7190.\n",
      "Df Residuals:                    2278   BIC:                             7202.\n",
      "Df Model:                           1                                         \n",
      "Covariance Type:            nonrobust                                         \n",
      "==============================================================================\n",
      "                 coef    std err          t      P>|t|      [0.025      0.975]\n",
      "------------------------------------------------------------------------------\n",
      "Intercept      2.6425      0.102     25.888      0.000       2.442       2.843\n",
      "Q5A_att2       0.6655      0.013     49.960      0.000       0.639       0.692\n",
      "==============================================================================\n",
      "Omnibus:                      322.314   Durbin-Watson:                   1.774\n",
      "Prob(Omnibus):                  0.000   Jarque-Bera (JB):             1964.772\n",
      "Skew:                          -0.508   Prob(JB):                         0.00\n",
      "Kurtosis:                       7.433   Cond. No.                         32.4\n",
      "==============================================================================\n",
      "\n",
      "Warnings:\n",
      "[1] Standard Errors assume that the covariance matrix of the errors is correctly specified.\n"
     ]
    }
   ],
   "source": [
    "import statsmodels.formula.api as sm\n",
    "m = sm.ols(formula=\"Q5A_att1~Q5A_att2\",data=likeability).fit()\n",
    "print(m.summary())"
   ]
  },
  {
   "cell_type": "markdown",
   "metadata": {},
   "source": [
    "From the above summary we can observe that the explained variance by the model using only one predictor is just 52.3%.\n",
    "\n",
    "- The F-Statistic(F = (SSR/(n-1))/SSE/(n-p-1)) is high and the p-value of the F-Statistic is also significant.\n",
    "- The r2 and adj r2 values are 0.523 which means that this model with one attribute is able to explain only 52.3% of the variance\n",
    "- The t statistic for the predictor is significantly high and its p-value is near to zero which means that this variable is significantly contributing in the explanation of variance."
   ]
  },
  {
   "cell_type": "markdown",
   "metadata": {},
   "source": [
    "Now we will do the same linear regression with all the predictor variables identified.\n",
    "- 5A_Attr2 – Likeability of Aroma\n",
    "- 5A_Attr3 – Likeability of Taste\n",
    "- 5A_Attr4 – Likeability of Smoothness\n",
    "- 5A_Attr5 – Likeability of Flavour\n",
    "- 5A_Attr6 – Likeability of Throat-feel when the vodka goes down\n",
    "- 5A_Attr7 – Likeability of After-taste\n",
    "- 5A_Attr8 – Likeability of Mouth-feel when the vodka is sipped"
   ]
  },
  {
   "cell_type": "code",
   "execution_count": 8,
   "metadata": {
    "scrolled": false
   },
   "outputs": [
    {
     "name": "stdout",
     "output_type": "stream",
     "text": [
      "                            OLS Regression Results                            \n",
      "==============================================================================\n",
      "Dep. Variable:               Q5A_att1   R-squared:                       0.775\n",
      "Model:                            OLS   Adj. R-squared:                  0.774\n",
      "Method:                 Least Squares   F-statistic:                     1117.\n",
      "Date:                Wed, 13 Jun 2018   Prob (F-statistic):               0.00\n",
      "Time:                        21:48:42   Log-Likelihood:                -2736.5\n",
      "No. Observations:                2280   AIC:                             5489.\n",
      "Df Residuals:                    2272   BIC:                             5535.\n",
      "Df Model:                           7                                         \n",
      "Covariance Type:            nonrobust                                         \n",
      "==============================================================================\n",
      "                 coef    std err          t      P>|t|      [0.025      0.975]\n",
      "------------------------------------------------------------------------------\n",
      "Intercept      0.5755      0.082      7.042      0.000       0.415       0.736\n",
      "Q5A_att2       0.1593      0.014     11.493      0.000       0.132       0.186\n",
      "Q5A_att3       0.2821      0.019     14.529      0.000       0.244       0.320\n",
      "Q5A_att4       0.1072      0.017      6.181      0.000       0.073       0.141\n",
      "Q5A_att5       0.0783      0.018      4.454      0.000       0.044       0.113\n",
      "Q5A_att6       0.0871      0.018      4.721      0.000       0.051       0.123\n",
      "Q5A_att7       0.0347      0.020      1.730      0.084      -0.005       0.074\n",
      "Q5A_att8       0.1890      0.021      9.070      0.000       0.148       0.230\n",
      "==============================================================================\n",
      "Omnibus:                      144.565   Durbin-Watson:                   1.753\n",
      "Prob(Omnibus):                  0.000   Jarque-Bera (JB):              500.205\n",
      "Skew:                          -0.238   Prob(JB):                    2.41e-109\n",
      "Kurtosis:                       5.245   Cond. No.                         98.2\n",
      "==============================================================================\n",
      "\n",
      "Warnings:\n",
      "[1] Standard Errors assume that the covariance matrix of the errors is correctly specified.\n"
     ]
    }
   ],
   "source": [
    "import statsmodels.formula.api as sm\n",
    "m = sm.ols(formula=\"Q5A_att1~Q5A_att2+Q5A_att3+Q5A_att4+Q5A_att5+Q5A_att6+Q5A_att7+Q5A_att8\",data=likeability)\n",
    "AR = m.fit()\n",
    "print(AR.summary())"
   ]
  },
  {
   "cell_type": "code",
   "execution_count": 9,
   "metadata": {},
   "outputs": [
    {
     "name": "stdout",
     "output_type": "stream",
     "text": [
      "Sum of Squared Residuals =  1472.1557173483202\n"
     ]
    }
   ],
   "source": [
    "print(\"Sum of Squared Residuals = \",AR.ssr)"
   ]
  },
  {
   "cell_type": "markdown",
   "metadata": {},
   "source": [
    "We can observe that in our model r2 value has significantly increased and all the coefficients for all the attributes are significant.\n",
    "\n",
    "- The F-Statistic(F = (SSR/(n-1))/SSE/(n-p-1)) is high and the p-value of the F-Statistic is also significant.\n",
    "- The r2 and adj r2 values are 0.775 which means that this model with all the attributes is able to explain only 77.5% of the variance\n",
    "- The t static for all the predictors is significantly high and their p-value is near to zero which means that the variables together significantly contribute in the explaination of variance.\n",
    "- The p-value of Q5A_att7(After-taste) is > 0.05 so we can repeat the regression removing the variable and check our results.\n",
    "- Sum of Squared Residuals =  513.20"
   ]
  },
  {
   "cell_type": "code",
   "execution_count": 10,
   "metadata": {
    "scrolled": false
   },
   "outputs": [
    {
     "name": "stdout",
     "output_type": "stream",
     "text": [
      "                            OLS Regression Results                            \n",
      "==============================================================================\n",
      "Dep. Variable:               Q5A_att1   R-squared:                       0.775\n",
      "Model:                            OLS   Adj. R-squared:                  0.774\n",
      "Method:                 Least Squares   F-statistic:                     1302.\n",
      "Date:                Wed, 13 Jun 2018   Prob (F-statistic):               0.00\n",
      "Time:                        21:48:42   Log-Likelihood:                -2738.0\n",
      "No. Observations:                2280   AIC:                             5490.\n",
      "Df Residuals:                    2273   BIC:                             5530.\n",
      "Df Model:                           6                                         \n",
      "Covariance Type:            nonrobust                                         \n",
      "==============================================================================\n",
      "                 coef    std err          t      P>|t|      [0.025      0.975]\n",
      "------------------------------------------------------------------------------\n",
      "Intercept      0.5892      0.081      7.241      0.000       0.430       0.749\n",
      "Q5A_att2       0.1604      0.014     11.583      0.000       0.133       0.188\n",
      "Q5A_att3       0.2880      0.019     15.049      0.000       0.250       0.325\n",
      "Q5A_att4       0.1102      0.017      6.383      0.000       0.076       0.144\n",
      "Q5A_att5       0.0835      0.017      4.814      0.000       0.049       0.117\n",
      "Q5A_att6       0.0937      0.018      5.183      0.000       0.058       0.129\n",
      "Q5A_att8       0.2005      0.020     10.146      0.000       0.162       0.239\n",
      "==============================================================================\n",
      "Omnibus:                      143.007   Durbin-Watson:                   1.755\n",
      "Prob(Omnibus):                  0.000   Jarque-Bera (JB):              488.447\n",
      "Skew:                          -0.238   Prob(JB):                    8.61e-107\n",
      "Kurtosis:                       5.217   Cond. No.                         90.5\n",
      "==============================================================================\n",
      "\n",
      "Warnings:\n",
      "[1] Standard Errors assume that the covariance matrix of the errors is correctly specified.\n"
     ]
    }
   ],
   "source": [
    "import statsmodels.formula.api as sm\n",
    "m = sm.ols(formula=\"Q5A_att1~Q5A_att2+Q5A_att3+Q5A_att4+Q5A_att5+Q5A_att6+Q5A_att8\",data=likeability)\n",
    "AR = m.fit()\n",
    "print(AR.summary())"
   ]
  },
  {
   "cell_type": "code",
   "execution_count": 11,
   "metadata": {},
   "outputs": [
    {
     "name": "stdout",
     "output_type": "stream",
     "text": [
      "Sum of Squared Residuals =  1474.0939302686584\n"
     ]
    }
   ],
   "source": [
    "print(\"Sum of Squared Residuals = \",AR.ssr)"
   ]
  },
  {
   "cell_type": "markdown",
   "metadata": {},
   "source": [
    "We can observe the following differences in the output after removing Q5A_att7(After-Taste):\n",
    "\n",
    "- The F Statistic value has increased from 1117 to 1302.\n",
    "- There is no change in the R2 value.\n",
    "- The sum of squared residuals has increased from 1472.155 to 1474.09 which is not a significant increase."
   ]
  },
  {
   "cell_type": "markdown",
   "metadata": {},
   "source": [
    "###### From the Above observations we can say that After-taste doesn't significantly contribute towards the overall Likeability of the product"
   ]
  },
  {
   "cell_type": "markdown",
   "metadata": {},
   "source": [
    "## Multi-Collinearity among variables"
   ]
  },
  {
   "cell_type": "code",
   "execution_count": 12,
   "metadata": {},
   "outputs": [
    {
     "data": {
      "text/html": [
       "<div>\n",
       "<style scoped>\n",
       "    .dataframe tbody tr th:only-of-type {\n",
       "        vertical-align: middle;\n",
       "    }\n",
       "\n",
       "    .dataframe tbody tr th {\n",
       "        vertical-align: top;\n",
       "    }\n",
       "\n",
       "    .dataframe thead th {\n",
       "        text-align: right;\n",
       "    }\n",
       "</style>\n",
       "<table border=\"1\" class=\"dataframe\">\n",
       "  <thead>\n",
       "    <tr style=\"text-align: right;\">\n",
       "      <th></th>\n",
       "      <th>Q5A_att1</th>\n",
       "      <th>Q5A_att2</th>\n",
       "      <th>Q5A_att3</th>\n",
       "      <th>Q5A_att4</th>\n",
       "      <th>Q5A_att5</th>\n",
       "      <th>Q5A_att6</th>\n",
       "      <th>Q5A_att7</th>\n",
       "      <th>Q5A_att8</th>\n",
       "    </tr>\n",
       "  </thead>\n",
       "  <tbody>\n",
       "    <tr>\n",
       "      <th>Q5A_att1</th>\n",
       "      <td>1.000000</td>\n",
       "      <td>0.723069</td>\n",
       "      <td>0.823922</td>\n",
       "      <td>0.766472</td>\n",
       "      <td>0.765972</td>\n",
       "      <td>0.765213</td>\n",
       "      <td>0.770606</td>\n",
       "      <td>0.799983</td>\n",
       "    </tr>\n",
       "    <tr>\n",
       "      <th>Q5A_att2</th>\n",
       "      <td>0.723069</td>\n",
       "      <td>1.000000</td>\n",
       "      <td>0.699165</td>\n",
       "      <td>0.650235</td>\n",
       "      <td>0.699211</td>\n",
       "      <td>0.644325</td>\n",
       "      <td>0.658032</td>\n",
       "      <td>0.652336</td>\n",
       "    </tr>\n",
       "    <tr>\n",
       "      <th>Q5A_att3</th>\n",
       "      <td>0.823922</td>\n",
       "      <td>0.699165</td>\n",
       "      <td>1.000000</td>\n",
       "      <td>0.777731</td>\n",
       "      <td>0.783251</td>\n",
       "      <td>0.749416</td>\n",
       "      <td>0.790696</td>\n",
       "      <td>0.796745</td>\n",
       "    </tr>\n",
       "    <tr>\n",
       "      <th>Q5A_att4</th>\n",
       "      <td>0.766472</td>\n",
       "      <td>0.650235</td>\n",
       "      <td>0.777731</td>\n",
       "      <td>1.000000</td>\n",
       "      <td>0.730227</td>\n",
       "      <td>0.783715</td>\n",
       "      <td>0.758622</td>\n",
       "      <td>0.761744</td>\n",
       "    </tr>\n",
       "    <tr>\n",
       "      <th>Q5A_att5</th>\n",
       "      <td>0.765972</td>\n",
       "      <td>0.699211</td>\n",
       "      <td>0.783251</td>\n",
       "      <td>0.730227</td>\n",
       "      <td>1.000000</td>\n",
       "      <td>0.742777</td>\n",
       "      <td>0.772320</td>\n",
       "      <td>0.768208</td>\n",
       "    </tr>\n",
       "    <tr>\n",
       "      <th>Q5A_att6</th>\n",
       "      <td>0.765213</td>\n",
       "      <td>0.644325</td>\n",
       "      <td>0.749416</td>\n",
       "      <td>0.783715</td>\n",
       "      <td>0.742777</td>\n",
       "      <td>1.000000</td>\n",
       "      <td>0.795996</td>\n",
       "      <td>0.814465</td>\n",
       "    </tr>\n",
       "    <tr>\n",
       "      <th>Q5A_att7</th>\n",
       "      <td>0.770606</td>\n",
       "      <td>0.658032</td>\n",
       "      <td>0.790696</td>\n",
       "      <td>0.758622</td>\n",
       "      <td>0.772320</td>\n",
       "      <td>0.795996</td>\n",
       "      <td>1.000000</td>\n",
       "      <td>0.830628</td>\n",
       "    </tr>\n",
       "    <tr>\n",
       "      <th>Q5A_att8</th>\n",
       "      <td>0.799983</td>\n",
       "      <td>0.652336</td>\n",
       "      <td>0.796745</td>\n",
       "      <td>0.761744</td>\n",
       "      <td>0.768208</td>\n",
       "      <td>0.814465</td>\n",
       "      <td>0.830628</td>\n",
       "      <td>1.000000</td>\n",
       "    </tr>\n",
       "  </tbody>\n",
       "</table>\n",
       "</div>"
      ],
      "text/plain": [
       "          Q5A_att1  Q5A_att2  Q5A_att3  Q5A_att4  Q5A_att5  Q5A_att6  \\\n",
       "Q5A_att1  1.000000  0.723069  0.823922  0.766472  0.765972  0.765213   \n",
       "Q5A_att2  0.723069  1.000000  0.699165  0.650235  0.699211  0.644325   \n",
       "Q5A_att3  0.823922  0.699165  1.000000  0.777731  0.783251  0.749416   \n",
       "Q5A_att4  0.766472  0.650235  0.777731  1.000000  0.730227  0.783715   \n",
       "Q5A_att5  0.765972  0.699211  0.783251  0.730227  1.000000  0.742777   \n",
       "Q5A_att6  0.765213  0.644325  0.749416  0.783715  0.742777  1.000000   \n",
       "Q5A_att7  0.770606  0.658032  0.790696  0.758622  0.772320  0.795996   \n",
       "Q5A_att8  0.799983  0.652336  0.796745  0.761744  0.768208  0.814465   \n",
       "\n",
       "          Q5A_att7  Q5A_att8  \n",
       "Q5A_att1  0.770606  0.799983  \n",
       "Q5A_att2  0.658032  0.652336  \n",
       "Q5A_att3  0.790696  0.796745  \n",
       "Q5A_att4  0.758622  0.761744  \n",
       "Q5A_att5  0.772320  0.768208  \n",
       "Q5A_att6  0.795996  0.814465  \n",
       "Q5A_att7  1.000000  0.830628  \n",
       "Q5A_att8  0.830628  1.000000  "
      ]
     },
     "execution_count": 12,
     "metadata": {},
     "output_type": "execute_result"
    }
   ],
   "source": [
    "import seaborn as sns\n",
    "likeability.corr()"
   ]
  },
  {
   "cell_type": "code",
   "execution_count": 13,
   "metadata": {
    "scrolled": true
   },
   "outputs": [
    {
     "data": {
      "text/plain": [
       "<matplotlib.axes._subplots.AxesSubplot at 0x2338743a630>"
      ]
     },
     "execution_count": 13,
     "metadata": {},
     "output_type": "execute_result"
    },
    {
     "data": {
      "image/png": "[encoded data removed]",
      "text/plain": [
       "<Figure size 432x288 with 2 Axes>"
      ]
     },
     "metadata": {},
     "output_type": "display_data"
    }
   ],
   "source": [
    "sns.heatmap(likeability.corr())"
   ]
  },
  {
   "cell_type": "code",
   "execution_count": 14,
   "metadata": {
    "collapsed": true
   },
   "outputs": [],
   "source": [
    "from sklearn.preprocessing import StandardScaler, MinMaxScaler, MaxAbsScaler\n",
    "scl = StandardScaler()"
   ]
  },
  {
   "cell_type": "code",
   "execution_count": 15,
   "metadata": {},
   "outputs": [
    {
     "data": {
      "text/html": [
       "<div>\n",
       "<style scoped>\n",
       "    .dataframe tbody tr th:only-of-type {\n",
       "        vertical-align: middle;\n",
       "    }\n",
       "\n",
       "    .dataframe tbody tr th {\n",
       "        vertical-align: top;\n",
       "    }\n",
       "\n",
       "    .dataframe thead th {\n",
       "        text-align: right;\n",
       "    }\n",
       "</style>\n",
       "<table border=\"1\" class=\"dataframe\">\n",
       "  <thead>\n",
       "    <tr style=\"text-align: right;\">\n",
       "      <th></th>\n",
       "      <th>Q5A_att1</th>\n",
       "      <th>Q5A_att2</th>\n",
       "      <th>Q5A_att3</th>\n",
       "      <th>Q5A_att4</th>\n",
       "      <th>Q5A_att5</th>\n",
       "      <th>Q5A_att6</th>\n",
       "      <th>Q5A_att7</th>\n",
       "      <th>Q5A_att8</th>\n",
       "    </tr>\n",
       "  </thead>\n",
       "  <tbody>\n",
       "    <tr>\n",
       "      <th>0</th>\n",
       "      <td>-0.350115</td>\n",
       "      <td>-0.781965</td>\n",
       "      <td>-0.301486</td>\n",
       "      <td>-0.257176</td>\n",
       "      <td>-0.229424</td>\n",
       "      <td>-0.232727</td>\n",
       "      <td>-0.303240</td>\n",
       "      <td>-0.288764</td>\n",
       "    </tr>\n",
       "    <tr>\n",
       "      <th>1</th>\n",
       "      <td>0.240316</td>\n",
       "      <td>0.304826</td>\n",
       "      <td>0.264732</td>\n",
       "      <td>0.292882</td>\n",
       "      <td>0.324107</td>\n",
       "      <td>-0.232727</td>\n",
       "      <td>0.266271</td>\n",
       "      <td>0.285240</td>\n",
       "    </tr>\n",
       "    <tr>\n",
       "      <th>2</th>\n",
       "      <td>-0.350115</td>\n",
       "      <td>-0.781965</td>\n",
       "      <td>-0.301486</td>\n",
       "      <td>0.292882</td>\n",
       "      <td>-0.229424</td>\n",
       "      <td>-0.232727</td>\n",
       "      <td>-0.872751</td>\n",
       "      <td>-0.288764</td>\n",
       "    </tr>\n",
       "    <tr>\n",
       "      <th>3</th>\n",
       "      <td>1.421177</td>\n",
       "      <td>0.304826</td>\n",
       "      <td>0.264732</td>\n",
       "      <td>0.292882</td>\n",
       "      <td>-0.229424</td>\n",
       "      <td>0.314301</td>\n",
       "      <td>1.405294</td>\n",
       "      <td>0.285240</td>\n",
       "    </tr>\n",
       "    <tr>\n",
       "      <th>4</th>\n",
       "      <td>0.830746</td>\n",
       "      <td>0.848221</td>\n",
       "      <td>0.830950</td>\n",
       "      <td>0.842940</td>\n",
       "      <td>0.877639</td>\n",
       "      <td>1.408356</td>\n",
       "      <td>1.405294</td>\n",
       "      <td>0.859244</td>\n",
       "    </tr>\n",
       "  </tbody>\n",
       "</table>\n",
       "</div>"
      ],
      "text/plain": [
       "   Q5A_att1  Q5A_att2  Q5A_att3  Q5A_att4  Q5A_att5  Q5A_att6  Q5A_att7  \\\n",
       "0 -0.350115 -0.781965 -0.301486 -0.257176 -0.229424 -0.232727 -0.303240   \n",
       "1  0.240316  0.304826  0.264732  0.292882  0.324107 -0.232727  0.266271   \n",
       "2 -0.350115 -0.781965 -0.301486  0.292882 -0.229424 -0.232727 -0.872751   \n",
       "3  1.421177  0.304826  0.264732  0.292882 -0.229424  0.314301  1.405294   \n",
       "4  0.830746  0.848221  0.830950  0.842940  0.877639  1.408356  1.405294   \n",
       "\n",
       "   Q5A_att8  \n",
       "0 -0.288764  \n",
       "1  0.285240  \n",
       "2 -0.288764  \n",
       "3  0.285240  \n",
       "4  0.859244  "
      ]
     },
     "execution_count": 15,
     "metadata": {},
     "output_type": "execute_result"
    }
   ],
   "source": [
    "likeability_std = scl.fit_transform(likeability)\n",
    "likeability_std = pd.DataFrame(likeability_std,columns=likeability.columns)\n",
    "likeability_std.to_csv('likeability_std.csv',index=False)\n",
    "likeability_std.head()"
   ]
  },
  {
   "cell_type": "markdown",
   "metadata": {},
   "source": [
    "From the above plots we can see that there is significant correlation among the variables.\n",
    "\n",
    "To handle this we can use Principal Component Analysis and remove few of the attributes that do not explain much of the variance and hence reduce the dimensions."
   ]
  },
  {
   "cell_type": "markdown",
   "metadata": {},
   "source": [
    "## Principal Component Analysis"
   ]
  },
  {
   "cell_type": "markdown",
   "metadata": {},
   "source": [
    "For the Principal Component Analysis we will also consider the attribute After-Taste as it may explain some part of the variance "
   ]
  },
  {
   "cell_type": "code",
   "execution_count": 16,
   "metadata": {},
   "outputs": [
    {
     "data": {
      "text/html": [
       "<div>\n",
       "<style scoped>\n",
       "    .dataframe tbody tr th:only-of-type {\n",
       "        vertical-align: middle;\n",
       "    }\n",
       "\n",
       "    .dataframe tbody tr th {\n",
       "        vertical-align: top;\n",
       "    }\n",
       "\n",
       "    .dataframe thead th {\n",
       "        text-align: right;\n",
       "    }\n",
       "</style>\n",
       "<table border=\"1\" class=\"dataframe\">\n",
       "  <thead>\n",
       "    <tr style=\"text-align: right;\">\n",
       "      <th></th>\n",
       "      <th>PC1</th>\n",
       "      <th>PC2</th>\n",
       "      <th>PC3</th>\n",
       "      <th>PC4</th>\n",
       "      <th>PC5</th>\n",
       "      <th>PC6</th>\n",
       "    </tr>\n",
       "  </thead>\n",
       "  <tbody>\n",
       "    <tr>\n",
       "      <th>0</th>\n",
       "      <td>0.887055</td>\n",
       "      <td>0.465339</td>\n",
       "      <td>0.095885</td>\n",
       "      <td>-0.156038</td>\n",
       "      <td>-0.106431</td>\n",
       "      <td>0.038368</td>\n",
       "    </tr>\n",
       "    <tr>\n",
       "      <th>1</th>\n",
       "      <td>-0.565220</td>\n",
       "      <td>-0.204215</td>\n",
       "      <td>0.137311</td>\n",
       "      <td>-0.238494</td>\n",
       "      <td>0.146587</td>\n",
       "      <td>-0.205819</td>\n",
       "    </tr>\n",
       "    <tr>\n",
       "      <th>2</th>\n",
       "      <td>0.900379</td>\n",
       "      <td>0.436403</td>\n",
       "      <td>-0.433586</td>\n",
       "      <td>-0.542759</td>\n",
       "      <td>-0.321796</td>\n",
       "      <td>0.282032</td>\n",
       "    </tr>\n",
       "    <tr>\n",
       "      <th>3</th>\n",
       "      <td>-1.005782</td>\n",
       "      <td>0.280622</td>\n",
       "      <td>-0.007703</td>\n",
       "      <td>0.483494</td>\n",
       "      <td>0.616515</td>\n",
       "      <td>-0.784998</td>\n",
       "    </tr>\n",
       "    <tr>\n",
       "      <th>4</th>\n",
       "      <td>-2.679122</td>\n",
       "      <td>0.203479</td>\n",
       "      <td>-0.016058</td>\n",
       "      <td>0.415319</td>\n",
       "      <td>-0.091785</td>\n",
       "      <td>-0.187008</td>\n",
       "    </tr>\n",
       "  </tbody>\n",
       "</table>\n",
       "</div>"
      ],
      "text/plain": [
       "        PC1       PC2       PC3       PC4       PC5       PC6\n",
       "0  0.887055  0.465339  0.095885 -0.156038 -0.106431  0.038368\n",
       "1 -0.565220 -0.204215  0.137311 -0.238494  0.146587 -0.205819\n",
       "2  0.900379  0.436403 -0.433586 -0.542759 -0.321796  0.282032\n",
       "3 -1.005782  0.280622 -0.007703  0.483494  0.616515 -0.784998\n",
       "4 -2.679122  0.203479 -0.016058  0.415319 -0.091785 -0.187008"
      ]
     },
     "execution_count": 16,
     "metadata": {},
     "output_type": "execute_result"
    }
   ],
   "source": [
    "from sklearn.decomposition import PCA\n",
    "mypca = PCA(n_components=6)\n",
    "PCs = mypca.fit_transform(likeability_std[['Q5A_att2','Q5A_att3','Q5A_att4','Q5A_att5','Q5A_att6','Q5A_att7','Q5A_att8']])\n",
    "PCs = pd.DataFrame(PCs,columns=['PC1','PC2','PC3','PC4','PC5','PC6'])\n",
    "PCs.head()"
   ]
  },
  {
   "cell_type": "code",
   "execution_count": 17,
   "metadata": {},
   "outputs": [
    {
     "data": {
      "text/plain": [
       "array([5.48454962, 0.43112695, 0.27585087, 0.2523241 , 0.22033185,\n",
       "       0.17910657])"
      ]
     },
     "execution_count": 17,
     "metadata": {},
     "output_type": "execute_result"
    }
   ],
   "source": [
    "mypca.explained_variance_"
   ]
  },
  {
   "cell_type": "code",
   "execution_count": 18,
   "metadata": {},
   "outputs": [
    {
     "data": {
      "text/plain": [
       "array([0.78316344, 0.06156255, 0.03938998, 0.03603049, 0.03146217,\n",
       "       0.02557543])"
      ]
     },
     "execution_count": 18,
     "metadata": {},
     "output_type": "execute_result"
    }
   ],
   "source": [
    "mypca.explained_variance_ratio_"
   ]
  },
  {
   "cell_type": "markdown",
   "metadata": {},
   "source": [
    "After performing the Principal Component analysis we can see that the the first PC is explaining 78% of the variance.\n",
    "\n",
    "So if we retain the first three principal components we can expalin 90% of the variance."
   ]
  },
  {
   "cell_type": "code",
   "execution_count": 19,
   "metadata": {
    "scrolled": true
   },
   "outputs": [
    {
     "data": {
      "text/html": [
       "<div>\n",
       "<style scoped>\n",
       "    .dataframe tbody tr th:only-of-type {\n",
       "        vertical-align: middle;\n",
       "    }\n",
       "\n",
       "    .dataframe tbody tr th {\n",
       "        vertical-align: top;\n",
       "    }\n",
       "\n",
       "    .dataframe thead th {\n",
       "        text-align: right;\n",
       "    }\n",
       "</style>\n",
       "<table border=\"1\" class=\"dataframe\">\n",
       "  <thead>\n",
       "    <tr style=\"text-align: right;\">\n",
       "      <th></th>\n",
       "      <th>PC1</th>\n",
       "      <th>PC2</th>\n",
       "      <th>PC3</th>\n",
       "      <th>Q5A_att1</th>\n",
       "    </tr>\n",
       "  </thead>\n",
       "  <tbody>\n",
       "    <tr>\n",
       "      <th>0</th>\n",
       "      <td>0.836983</td>\n",
       "      <td>0.463675</td>\n",
       "      <td>0.167813</td>\n",
       "      <td>7</td>\n",
       "    </tr>\n",
       "    <tr>\n",
       "      <th>1</th>\n",
       "      <td>-0.502205</td>\n",
       "      <td>-0.220612</td>\n",
       "      <td>0.157980</td>\n",
       "      <td>8</td>\n",
       "    </tr>\n",
       "    <tr>\n",
       "      <th>2</th>\n",
       "      <td>0.611425</td>\n",
       "      <td>0.603628</td>\n",
       "      <td>-0.113191</td>\n",
       "      <td>7</td>\n",
       "    </tr>\n",
       "    <tr>\n",
       "      <th>3</th>\n",
       "      <td>-0.500328</td>\n",
       "      <td>0.029217</td>\n",
       "      <td>-0.382574</td>\n",
       "      <td>10</td>\n",
       "    </tr>\n",
       "    <tr>\n",
       "      <th>4</th>\n",
       "      <td>-2.314988</td>\n",
       "      <td>0.124968</td>\n",
       "      <td>-0.180056</td>\n",
       "      <td>9</td>\n",
       "    </tr>\n",
       "  </tbody>\n",
       "</table>\n",
       "</div>"
      ],
      "text/plain": [
       "        PC1       PC2       PC3  Q5A_att1\n",
       "0  0.836983  0.463675  0.167813         7\n",
       "1 -0.502205 -0.220612  0.157980         8\n",
       "2  0.611425  0.603628 -0.113191         7\n",
       "3 -0.500328  0.029217 -0.382574        10\n",
       "4 -2.314988  0.124968 -0.180056         9"
      ]
     },
     "execution_count": 19,
     "metadata": {},
     "output_type": "execute_result"
    }
   ],
   "source": [
    "mypca = PCA(n_components=3)\n",
    "data_pc = mypca.fit_transform(likeability_std[['Q5A_att2', 'Q5A_att3','Q5A_att4', 'Q5A_att5', 'Q5A_att6', 'Q5A_att8']])\n",
    "data_pc = pd.DataFrame(data_pc,columns=['PC1','PC2','PC3'])\n",
    "data_pc.loc[:,'Q5A_att1'] = likeability['Q5A_att1']\n",
    "data_pc.head()"
   ]
  },
  {
   "cell_type": "code",
   "execution_count": 20,
   "metadata": {},
   "outputs": [
    {
     "data": {
      "text/plain": [
       "array([[-0.37572381, -0.4191673 , -0.41006154, -0.41153483, -0.41299715,\n",
       "        -0.41839259],\n",
       "       [-0.85150015,  0.00158225,  0.25443338, -0.10979345,  0.34560456,\n",
       "         0.28055574],\n",
       "       [-0.31207057,  0.26097568, -0.51086167,  0.67679523, -0.30332503,\n",
       "         0.15318665]])"
      ]
     },
     "execution_count": 20,
     "metadata": {},
     "output_type": "execute_result"
    }
   ],
   "source": [
    "mypca.components_"
   ]
  },
  {
   "cell_type": "markdown",
   "metadata": {},
   "source": [
    "## Factor Analysis"
   ]
  },
  {
   "cell_type": "markdown",
   "metadata": {},
   "source": [
    "Now we need to look which all attributes are contributing to the principal components."
   ]
  },
  {
   "cell_type": "markdown",
   "metadata": {},
   "source": [
    "The Rotated Component matrix gives us this information.\n",
    "We need to check which attributes are contributing most in which Principle Component.\n",
    "\n",
    "To do this we have used R and performed PCA to get the Rotated Component Matrix of Principal components."
   ]
  },
  {
   "cell_type": "code",
   "execution_count": 21,
   "metadata": {
    "collapsed": true
   },
   "outputs": [],
   "source": [
    "import rpy2\n",
    "import warnings\n",
    "warnings.filterwarnings('ignore')\n",
    "%load_ext rpy2.ipython"
   ]
  },
  {
   "cell_type": "code",
   "execution_count": 22,
   "metadata": {
    "collapsed": true
   },
   "outputs": [],
   "source": [
    "%R -i likeability_std"
   ]
  },
  {
   "cell_type": "code",
   "execution_count": 23,
   "metadata": {},
   "outputs": [
    {
     "data": {
      "text/html": [
       "\n",
       "    <span>ListVector with 30 elements.</span>\n",
       "    <table>\n",
       "      <tbody>\n",
       "      \n",
       "      <tr>\n",
       "      <th>\n",
       "        values\n",
       "      </th>\n",
       "      <td>\n",
       "        \n",
       "    <span>FloatVector with 7 elements.</span>\n",
       "    <table>\n",
       "      <tbody>\n",
       "      <tr>\n",
       "      \n",
       "      <td>\n",
       "        5.482144\n",
       "      </td>\n",
       "      \n",
       "      <td>\n",
       "        0.430938\n",
       "      </td>\n",
       "      \n",
       "      <td>\n",
       "        0.275730\n",
       "      </td>\n",
       "      \n",
       "      <td>\n",
       "        0.252213\n",
       "      </td>\n",
       "      \n",
       "      <td>\n",
       "        0.220235\n",
       "      </td>\n",
       "      \n",
       "      <td>\n",
       "        0.179028\n",
       "      </td>\n",
       "      \n",
       "      <td>\n",
       "        0.159711\n",
       "      </td>\n",
       "      \n",
       "      </tr>\n",
       "      </tbody>\n",
       "    </table>\n",
       "    \n",
       "      </td>\n",
       "      </tr>\n",
       "      \n",
       "      <tr>\n",
       "      <th>\n",
       "        rotation\n",
       "      </th>\n",
       "      <td>\n",
       "        \n",
       "    <span>StrVector with 1 elements.</span>\n",
       "    <table>\n",
       "      <tbody>\n",
       "      <tr>\n",
       "      \n",
       "      <td>\n",
       "        'varimax'\n",
       "      </td>\n",
       "      \n",
       "      </tr>\n",
       "      </tbody>\n",
       "    </table>\n",
       "    \n",
       "      </td>\n",
       "      </tr>\n",
       "      \n",
       "      <tr>\n",
       "      <th>\n",
       "        n.obs\n",
       "      </th>\n",
       "      <td>\n",
       "        \n",
       "    <span>IntVector with 1 elements.</span>\n",
       "    <table>\n",
       "      <tbody>\n",
       "      <tr>\n",
       "      \n",
       "      <td>\n",
       "        2,280\n",
       "      </td>\n",
       "      \n",
       "      </tr>\n",
       "      </tbody>\n",
       "    </table>\n",
       "    \n",
       "      </td>\n",
       "      </tr>\n",
       "      \n",
       "      <tr>\n",
       "      <th>\n",
       "        ...\n",
       "      </th>\n",
       "      <td>\n",
       "        ...\n",
       "      </td>\n",
       "      </tr>\n",
       "      \n",
       "      <tr>\n",
       "      <th>\n",
       "        Vaccounted\n",
       "      </th>\n",
       "      <td>\n",
       "        \n",
       "    <span>Matrix with 15 elements.</span>\n",
       "    <table>\n",
       "      <tbody>\n",
       "      <tr>\n",
       "      \n",
       "      <td>\n",
       "        2.593077\n",
       "      </td>\n",
       "      \n",
       "      <td>\n",
       "        0.370440\n",
       "      </td>\n",
       "      \n",
       "      <td>\n",
       "        0.370440\n",
       "      </td>\n",
       "      \n",
       "      <td>\n",
       "        0.418994\n",
       "      </td>\n",
       "      \n",
       "      <td>\n",
       "        ...\n",
       "      </td>\n",
       "      \n",
       "      <td>\n",
       "        0.212871\n",
       "      </td>\n",
       "      \n",
       "      <td>\n",
       "        0.884116\n",
       "      </td>\n",
       "      \n",
       "      <td>\n",
       "        0.240772\n",
       "      </td>\n",
       "      \n",
       "      <td>\n",
       "        1.000000\n",
       "      </td>\n",
       "      \n",
       "      </tr>\n",
       "      </tbody>\n",
       "    </table>\n",
       "    \n",
       "      </td>\n",
       "      </tr>\n",
       "      \n",
       "      <tr>\n",
       "      <th>\n",
       "        Structure\n",
       "      </th>\n",
       "      <td>\n",
       "        \n",
       "    <span>Matrix with 21 elements.</span>\n",
       "    <table>\n",
       "      <tbody>\n",
       "      <tr>\n",
       "      \n",
       "      <td>\n",
       "        0.328115\n",
       "      </td>\n",
       "      \n",
       "      <td>\n",
       "        0.644848\n",
       "      </td>\n",
       "      \n",
       "      <td>\n",
       "        0.358657\n",
       "      </td>\n",
       "      \n",
       "      <td>\n",
       "        0.769445\n",
       "      </td>\n",
       "      \n",
       "      <td>\n",
       "        ...\n",
       "      </td>\n",
       "      \n",
       "      <td>\n",
       "        0.446708\n",
       "      </td>\n",
       "      \n",
       "      <td>\n",
       "        0.261051\n",
       "      </td>\n",
       "      \n",
       "      <td>\n",
       "        0.271301\n",
       "      </td>\n",
       "      \n",
       "      <td>\n",
       "        0.253222\n",
       "      </td>\n",
       "      \n",
       "      </tr>\n",
       "      </tbody>\n",
       "    </table>\n",
       "    \n",
       "      </td>\n",
       "      </tr>\n",
       "      \n",
       "      <tr>\n",
       "      <th>\n",
       "        scores\n",
       "      </th>\n",
       "      <td>\n",
       "        \n",
       "    <span>Matrix with 6840 elements.</span>\n",
       "    <table>\n",
       "      <tbody>\n",
       "      <tr>\n",
       "      \n",
       "      <td>\n",
       "        0.042954\n",
       "      </td>\n",
       "      \n",
       "      <td>\n",
       "        0.273118\n",
       "      </td>\n",
       "      \n",
       "      <td>\n",
       "        -0.685239\n",
       "      </td>\n",
       "      \n",
       "      <td>\n",
       "        0.375637\n",
       "      </td>\n",
       "      \n",
       "      <td>\n",
       "        ...\n",
       "      </td>\n",
       "      \n",
       "      <td>\n",
       "        -1.150503\n",
       "      </td>\n",
       "      \n",
       "      <td>\n",
       "        0.275628\n",
       "      </td>\n",
       "      \n",
       "      <td>\n",
       "        0.291286\n",
       "      </td>\n",
       "      \n",
       "      <td>\n",
       "        -1.150503\n",
       "      </td>\n",
       "      \n",
       "      </tr>\n",
       "      </tbody>\n",
       "    </table>\n",
       "    \n",
       "      </td>\n",
       "      </tr>\n",
       "      \n",
       "      </tbody>\n",
       "    </table>\n",
       "    "
      ],
      "text/plain": [
       "R object with classes: ('psych', 'principal') mapped to:\n",
       "<ListVector - Python:0x000002338976E248 / R:0x00000233887A7050>\n",
       "[FloatVector, StrVector, IntVector, FloatVector, ..., Matrix, Matrix, Matrix, Matrix]\n",
       "  values: <class 'rpy2.robjects.vectors.FloatVector'>\n",
       "  R object with classes: ('numeric',) mapped to:\n",
       "<FloatVector - Python:0x0000023389757388 / R:0x0000023387F0C578>\n",
       "[5.482144, 0.430938, 0.275730, 0.252213, 0.220235, 0.179028, 0.159711]\n",
       "  rotation: <class 'rpy2.robjects.vectors.StrVector'>\n",
       "  R object with classes: ('character',) mapped to:\n",
       "<StrVector - Python:0x00000233897A82C8 / R:0x000002338A3A3E38>\n",
       "['varimax']\n",
       "  n.obs: <class 'rpy2.robjects.vectors.IntVector'>\n",
       "  R object with classes: ('integer',) mapped to:\n",
       "<IntVector - Python:0x0000023389798DC8 / R:0x000002338A5E0328>\n",
       "[2,280]\n",
       "  communality: <class 'rpy2.robjects.vectors.FloatVector'>\n",
       "  R object with classes: ('numeric',) mapped to:\n",
       "<FloatVector - Python:0x0000023386133EC8 / R:0x0000023389AEEEE0>\n",
       "[0.976375, 0.824036, 0.922291, 0.875533, 0.858814, 0.863137, 0.868625]\n",
       "...\n",
       "  fit: <class 'rpy2.robjects.vectors.Matrix'>\n",
       "  R object with classes: ('matrix',) mapped to:\n",
       "<Matrix - Python:0x00000233897989C8 / R:0x0000023388B4AD18>\n",
       "[0.665929, -0.234049, -0.708350, 0.458581, ..., 0.141227, 0.588423, -0.418883, 0.691589]\n",
       "  fit.off: <class 'rpy2.robjects.vectors.Matrix'>\n",
       "  R object with classes: ('matrix',) mapped to:\n",
       "<Matrix - Python:0x00000233897A8188 / R:0x0000023388B43290>\n",
       "[2.593077, 0.370440, 0.370440, 0.418994, ..., 0.212871, 0.884116, 0.240772, 1.000000]\n",
       "  fn: <class 'rpy2.robjects.vectors.Matrix'>\n",
       "  R object with classes: ('loadings',) mapped to:\n",
       "<Matrix - Python:0x0000023389798C48 / R:0x0000023388CE5FF8>\n",
       "[0.328115, 0.644848, 0.358657, 0.769445, ..., 0.446708, 0.261051, 0.271301, 0.253222]\n",
       "  Call: <class 'rpy2.robjects.vectors.Matrix'>\n",
       "  R object with classes: ('matrix',) mapped to:\n",
       "<Matrix - Python:0x00000233899DC5C8 / R:0x000002338A627940>\n",
       "[0.042954, 0.273118, -0.685239, 0.375637, ..., -1.150503, 0.275628, 0.291286, -1.150503]"
      ]
     },
     "execution_count": 23,
     "metadata": {},
     "output_type": "execute_result"
    }
   ],
   "source": [
    "%R require(psych)\n",
    "%R pca1 = principal(likeability_std[2:8],nfactors = 3,scores = TRUE) "
   ]
  },
  {
   "cell_type": "markdown",
   "metadata": {},
   "source": [
    "Eigen Values of the principal Components."
   ]
  },
  {
   "cell_type": "code",
   "execution_count": 24,
   "metadata": {},
   "outputs": [
    {
     "data": {
      "text/plain": [
       "array([5.48214411, 0.43093786, 0.27572989, 0.25221344, 0.22023521,\n",
       "       0.17902801, 0.15971149])"
      ]
     },
     "execution_count": 24,
     "metadata": {},
     "output_type": "execute_result"
    }
   ],
   "source": [
    "%R pca1$values"
   ]
  },
  {
   "cell_type": "markdown",
   "metadata": {},
   "source": [
    "Eigen Values of the principal Components."
   ]
  },
  {
   "cell_type": "markdown",
   "metadata": {},
   "source": [
    "Below is the Rotated Component Matrix."
   ]
  },
  {
   "cell_type": "code",
   "execution_count": 25,
   "metadata": {},
   "outputs": [
    {
     "data": {
      "text/html": [
       "<div>\n",
       "<style scoped>\n",
       "    .dataframe tbody tr th:only-of-type {\n",
       "        vertical-align: middle;\n",
       "    }\n",
       "\n",
       "    .dataframe tbody tr th {\n",
       "        vertical-align: top;\n",
       "    }\n",
       "\n",
       "    .dataframe thead th {\n",
       "        text-align: right;\n",
       "    }\n",
       "</style>\n",
       "<table border=\"1\" class=\"dataframe\">\n",
       "  <thead>\n",
       "    <tr style=\"text-align: right;\">\n",
       "      <th></th>\n",
       "      <th>F1</th>\n",
       "      <th>F2</th>\n",
       "      <th>F3</th>\n",
       "    </tr>\n",
       "  </thead>\n",
       "  <tbody>\n",
       "    <tr>\n",
       "      <th>Q5A_att2</th>\n",
       "      <td>0.328115</td>\n",
       "      <td>0.305421</td>\n",
       "      <td>0.880587</td>\n",
       "    </tr>\n",
       "    <tr>\n",
       "      <th>Q5A_att3</th>\n",
       "      <td>0.644848</td>\n",
       "      <td>0.475510</td>\n",
       "      <td>0.426730</td>\n",
       "    </tr>\n",
       "    <tr>\n",
       "      <th>Q5A_att4</th>\n",
       "      <td>0.358657</td>\n",
       "      <td>0.816404</td>\n",
       "      <td>0.356568</td>\n",
       "    </tr>\n",
       "    <tr>\n",
       "      <th>Q5A_att5</th>\n",
       "      <td>0.769445</td>\n",
       "      <td>0.289724</td>\n",
       "      <td>0.446708</td>\n",
       "    </tr>\n",
       "    <tr>\n",
       "      <th>Q5A_att6</th>\n",
       "      <td>0.538378</td>\n",
       "      <td>0.707683</td>\n",
       "      <td>0.261051</td>\n",
       "    </tr>\n",
       "    <tr>\n",
       "      <th>Q5A_att7</th>\n",
       "      <td>0.736495</td>\n",
       "      <td>0.497100</td>\n",
       "      <td>0.271301</td>\n",
       "    </tr>\n",
       "    <tr>\n",
       "      <th>Q5A_att8</th>\n",
       "      <td>0.718772</td>\n",
       "      <td>0.536536</td>\n",
       "      <td>0.253222</td>\n",
       "    </tr>\n",
       "  </tbody>\n",
       "</table>\n",
       "</div>"
      ],
      "text/plain": [
       "                F1        F2        F3\n",
       "Q5A_att2  0.328115  0.305421  0.880587\n",
       "Q5A_att3  0.644848  0.475510  0.426730\n",
       "Q5A_att4  0.358657  0.816404  0.356568\n",
       "Q5A_att5  0.769445  0.289724  0.446708\n",
       "Q5A_att6  0.538378  0.707683  0.261051\n",
       "Q5A_att7  0.736495  0.497100  0.271301\n",
       "Q5A_att8  0.718772  0.536536  0.253222"
      ]
     },
     "execution_count": 25,
     "metadata": {},
     "output_type": "execute_result"
    }
   ],
   "source": [
    "FA = %R pca1$Structure\n",
    "FA = pd.DataFrame(FA,columns=['F1','F2','F3'],index=likeability_std.drop('Q5A_att1',axis=1).columns)\n",
    "FA"
   ]
  },
  {
   "cell_type": "markdown",
   "metadata": {},
   "source": [
    "From the Rotated Component Matrix we can observe the following:\n",
    "    \n",
    "- 5A_Attr2(Aroma) - F3\n",
    "- 5A_Attr3 (Taste) - F1\n",
    "- 5A_Attr4 (Smoothness) - F2\n",
    "- 5A_Attr5 (Flavour) - F1\n",
    "- 5A_Attr6 (Throat-feel when the vodka goes down) - F2\n",
    "- 5A_Attr7 (After-taste) - F1\n",
    "- 5A_Attr8 (Mouth-feel when the vodka is sipped) - F2\n",
    "\n",
    "Factors: \n",
    "- F1 = Taste, Flavour, After-taste\n",
    "- F2 = Smoothness, Throat-feel when the vodka goes down, Mouth-feel when the vodka is sipped\n",
    "- F3 = Aroma"
   ]
  },
  {
   "cell_type": "markdown",
   "metadata": {},
   "source": [
    "From the above details we can name the Factors:\n",
    "    - Taste = Factor 1 has attributes that are related to taste.\n",
    "    - Feel = Factor 2 has attributes related to Strength and Feel of the Vodka.\n",
    "    - Smell = Factor 3 has only one attribute that is related to the smell of the vodka."
   ]
  },
  {
   "cell_type": "code",
   "execution_count": 26,
   "metadata": {
    "collapsed": true
   },
   "outputs": [],
   "source": [
    "PCs = %R pca1$scores"
   ]
  },
  {
   "cell_type": "code",
   "execution_count": 27,
   "metadata": {},
   "outputs": [
    {
     "data": {
      "text/html": [
       "<div>\n",
       "<style scoped>\n",
       "    .dataframe tbody tr th:only-of-type {\n",
       "        vertical-align: middle;\n",
       "    }\n",
       "\n",
       "    .dataframe tbody tr th {\n",
       "        vertical-align: top;\n",
       "    }\n",
       "\n",
       "    .dataframe thead th {\n",
       "        text-align: right;\n",
       "    }\n",
       "</style>\n",
       "<table border=\"1\" class=\"dataframe\">\n",
       "  <thead>\n",
       "    <tr style=\"text-align: right;\">\n",
       "      <th></th>\n",
       "      <th>PC1</th>\n",
       "      <th>PC2</th>\n",
       "      <th>PC3</th>\n",
       "      <th>Q5A_att1</th>\n",
       "    </tr>\n",
       "  </thead>\n",
       "  <tbody>\n",
       "    <tr>\n",
       "      <th>0</th>\n",
       "      <td>0.042954</td>\n",
       "      <td>-0.052273</td>\n",
       "      <td>-0.821272</td>\n",
       "      <td>7</td>\n",
       "    </tr>\n",
       "    <tr>\n",
       "      <th>1</th>\n",
       "      <td>0.273118</td>\n",
       "      <td>-0.169071</td>\n",
       "      <td>0.346631</td>\n",
       "      <td>8</td>\n",
       "    </tr>\n",
       "    <tr>\n",
       "      <th>2</th>\n",
       "      <td>-0.685239</td>\n",
       "      <td>0.623113</td>\n",
       "      <td>-0.642846</td>\n",
       "      <td>7</td>\n",
       "    </tr>\n",
       "    <tr>\n",
       "      <th>3</th>\n",
       "      <td>0.375637</td>\n",
       "      <td>0.441877</td>\n",
       "      <td>-0.175951</td>\n",
       "      <td>10</td>\n",
       "    </tr>\n",
       "    <tr>\n",
       "      <th>4</th>\n",
       "      <td>0.812690</td>\n",
       "      <td>0.824105</td>\n",
       "      <td>0.257039</td>\n",
       "      <td>9</td>\n",
       "    </tr>\n",
       "  </tbody>\n",
       "</table>\n",
       "</div>"
      ],
      "text/plain": [
       "        PC1       PC2       PC3  Q5A_att1\n",
       "0  0.042954 -0.052273 -0.821272         7\n",
       "1  0.273118 -0.169071  0.346631         8\n",
       "2 -0.685239  0.623113 -0.642846         7\n",
       "3  0.375637  0.441877 -0.175951        10\n",
       "4  0.812690  0.824105  0.257039         9"
      ]
     },
     "execution_count": 27,
     "metadata": {},
     "output_type": "execute_result"
    }
   ],
   "source": [
    "PCs = pd.DataFrame(PCs,columns=['PC1','PC2','PC3'])\n",
    "PCs.loc[:,'Q5A_att1'] = likeability['Q5A_att1']\n",
    "PCs.head()"
   ]
  },
  {
   "cell_type": "markdown",
   "metadata": {},
   "source": [
    "Adding the Target column to the Factors."
   ]
  },
  {
   "cell_type": "code",
   "execution_count": 28,
   "metadata": {
    "scrolled": false
   },
   "outputs": [
    {
     "name": "stdout",
     "output_type": "stream",
     "text": [
      "                            OLS Regression Results                            \n",
      "==============================================================================\n",
      "Dep. Variable:               Q5A_att1   R-squared:                       0.767\n",
      "Model:                            OLS   Adj. R-squared:                  0.766\n",
      "Method:                 Least Squares   F-statistic:                     2493.\n",
      "Date:                Wed, 13 Jun 2018   Prob (F-statistic):               0.00\n",
      "Time:                        21:48:45   Log-Likelihood:                -2777.3\n",
      "No. Observations:                2280   AIC:                             5563.\n",
      "Df Residuals:                    2276   BIC:                             5586.\n",
      "Df Model:                           3                                         \n",
      "Covariance Type:            nonrobust                                         \n",
      "==============================================================================\n",
      "                 coef    std err          t      P>|t|      [0.025      0.975]\n",
      "------------------------------------------------------------------------------\n",
      "Intercept      7.5930      0.017    442.810      0.000       7.559       7.627\n",
      "PC1            0.9637      0.017     56.191      0.000       0.930       0.997\n",
      "PC2            0.8464      0.017     49.348      0.000       0.813       0.880\n",
      "PC3            0.7451      0.017     43.444      0.000       0.711       0.779\n",
      "==============================================================================\n",
      "Omnibus:                      143.861   Durbin-Watson:                   1.723\n",
      "Prob(Omnibus):                  0.000   Jarque-Bera (JB):              495.069\n",
      "Skew:                          -0.238   Prob(JB):                    3.14e-108\n",
      "Kurtosis:                       5.233   Cond. No.                         1.00\n",
      "==============================================================================\n",
      "\n",
      "Warnings:\n",
      "[1] Standard Errors assume that the covariance matrix of the errors is correctly specified.\n"
     ]
    }
   ],
   "source": [
    "import statsmodels.formula.api as sm\n",
    "m = sm.ols(formula=\"Q5A_att1~PC1+PC2+PC3\",data=PCs)\n",
    "AR = m.fit()\n",
    "print(AR.summary())"
   ]
  },
  {
   "cell_type": "code",
   "execution_count": 29,
   "metadata": {},
   "outputs": [
    {
     "name": "stdout",
     "output_type": "stream",
     "text": [
      "Sum of Squared Residuals =  1525.7986991764565\n"
     ]
    }
   ],
   "source": [
    "print(\"Sum of Squared Residuals = \",AR.ssr)"
   ]
  },
  {
   "cell_type": "markdown",
   "metadata": {},
   "source": [
    "We can observe the following differences in the output after removing Q5A_att7(After-Taste):\n",
    "\n",
    "- The F Statistic value has increased from 1302 to 2493.\n",
    "- The R2 value has decreased Slightly.\n",
    "- All the Factors are significantly contributing in the explanation of Variance."
   ]
  },
  {
   "cell_type": "markdown",
   "metadata": {},
   "source": [
    "Thus from the above analysis we have derived the following Factors\n",
    "- Taste = Factor 1 has attributes that are related to taste.\n",
    "- Feel = Factor 2 has attributes related to Strength and Feel of the Vodka.\n",
    "- Smell = Factor 3 has only one attribute that is related to the smell of the vodka."
   ]
  }
 ],
 "metadata": {
  "kernelspec": {
   "display_name": "Python 3",
   "language": "python",
   "name": "python3"
  },
  "language_info": {
   "codemirror_mode": {
    "name": "ipython",
    "version": 3
   },
   "file_extension": ".py",
   "mimetype": "text/x-python",
   "name": "python",
   "nbconvert_exporter": "python",
   "pygments_lexer": "ipython3",
   "version": "3.6.3"
  }
 },
 "nbformat": 4,
 "nbformat_minor": 2
}
